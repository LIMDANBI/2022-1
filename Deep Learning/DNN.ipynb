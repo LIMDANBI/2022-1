{
 "cells": [
  {
   "cell_type": "code",
   "execution_count": 1,
   "id": "3fe3cc19",
   "metadata": {},
   "outputs": [],
   "source": [
    "import torch\n",
    "import torchvision\n",
    "from torch import nn, optim\n",
    "from torch.utils.data import DataLoader\n",
    "from torchvision import datasets, transforms\n",
    "import numpy as np\n",
    "import matplotlib.pyplot as plt\n",
    "\n",
    "%matplotlib inline"
   ]
  },
  {
   "cell_type": "markdown",
   "id": "e5ac865d",
   "metadata": {},
   "source": [
    "# Data Loading"
   ]
  },
  {
   "cell_type": "code",
   "execution_count": 2,
   "id": "7f9a0cc1",
   "metadata": {},
   "outputs": [],
   "source": [
    "batch_size = 12\n",
    "\n",
    "train_data = datasets.MNIST('', train=True, download=False, transform = transforms.ToTensor())\n",
    "test_data = datasets.MNIST('', train=False, download=False, transform = transforms.ToTensor())\n",
    "\n",
    "train_loader = DataLoader(dataset=train_data, batch_size=batch_size, shuffle=True)\n",
    "test_loader = DataLoader(dataset=test_data, batch_size=batch_size)"
   ]
  },
  {
   "cell_type": "markdown",
   "id": "da18a6ad",
   "metadata": {},
   "source": [
    "# Model"
   ]
  },
  {
   "cell_type": "code",
   "execution_count": 3,
   "id": "125a8805",
   "metadata": {},
   "outputs": [],
   "source": [
    "class DNN(nn.Module):\n",
    "    def __init__(self, hidden_units = [512, 256, 128, 64]):\n",
    "        super().__init__()\n",
    "        \n",
    "        self.in_dim = 28*28\n",
    "        self.out_dim = 10\n",
    "        self.hidden_units = hidden_units\n",
    "        \n",
    "        # nn.ModuleList 이용\n",
    "        linear_layers = []\n",
    "        linear_layers.append(nn.Linear(self.in_dim, self.hidden_units[0]))\n",
    "        for i in range(len(hidden_units)-1):\n",
    "            linear_layers.append(nn.Linear(hidden_units[i], hidden_units[i+1]))\n",
    "        linear_layers.append(nn.Linear(hidden_units[-1], self.out_dim))\n",
    "       \n",
    "        self.linear_layers = nn.ModuleList(linear_layers)\n",
    "        \n",
    "        self.relu = nn.ReLU()\n",
    "        \n",
    "    def forward(self, x):\n",
    "        x = x.view(-1, self.in_dim)\n",
    "        for layer in range(len(self.linear_layers)):\n",
    "            z = self.linear_layers[layer](x)\n",
    "            if layer == len(self.linear_layers)-1:\n",
    "                logit = z\n",
    "            else :\n",
    "                x = self.relu(z)\n",
    "        return logit"
   ]
  },
  {
   "cell_type": "markdown",
   "id": "c01664d2",
   "metadata": {},
   "source": [
    "# Train"
   ]
  },
  {
   "cell_type": "code",
   "execution_count": 4,
   "id": "30acd122",
   "metadata": {},
   "outputs": [],
   "source": [
    "def Train(model):\n",
    "    \n",
    "    for epoch in range(10):\n",
    "        running_loss = 0.0\n",
    "        for i, data in enumerate(train_loader, 0):\n",
    "            inputs , labels = data\n",
    "        \n",
    "            optimizer.zero_grad()\n",
    "        \n",
    "            outputs = model(inputs)\n",
    "            loss = criterion(outputs, labels)\n",
    "            loss.backward()\n",
    "            optimizer.step()\n",
    "        \n",
    "            running_loss+=loss.item()\n",
    "            if (i+1)%2000 == 0:\n",
    "                print('[%d, %5d] loss: %.3f' %(epoch+1, i+1, running_loss/2000))\n",
    "                running_loss = 0.0\n",
    "            \n",
    "    print(\"Finished Training\")\n",
    "    print()"
   ]
  },
  {
   "cell_type": "markdown",
   "id": "e111dcc1",
   "metadata": {},
   "source": [
    "# Test"
   ]
  },
  {
   "cell_type": "code",
   "execution_count": 5,
   "id": "09ffd9ca",
   "metadata": {},
   "outputs": [],
   "source": [
    "def Test(model):\n",
    "    n_predict = 0\n",
    "    n_correct = 0\n",
    "\n",
    "    for data in test_loader:\n",
    "        inputs, labels = data\n",
    "        outputs = model(inputs)\n",
    "        _, predicted = torch.max(outputs, 1)\n",
    "    \n",
    "        n_predict += len(predicted)\n",
    "        n_correct += (labels == predicted).sum()\n",
    "        \n",
    "    accuracy = (n_correct/n_predict).item()\n",
    "    \n",
    "    print(f\"{n_correct}/{n_predict}\")\n",
    "    print(f\"Accuracy: {accuracy:.3f}\")\n",
    "    print()\n",
    "    \n",
    "    return accuracy"
   ]
  },
  {
   "cell_type": "markdown",
   "id": "b4f141b7",
   "metadata": {},
   "source": [
    "# Accuracy vs #Layers"
   ]
  },
  {
   "cell_type": "code",
   "execution_count": 6,
   "id": "40c365a9",
   "metadata": {},
   "outputs": [
    {
     "name": "stdout",
     "output_type": "stream",
     "text": [
      "-------------------- 2 layer --------------------\n",
      "[1,  2000] loss: 1.044\n",
      "[1,  4000] loss: 0.362\n",
      "[2,  2000] loss: 0.276\n",
      "[2,  4000] loss: 0.239\n",
      "[3,  2000] loss: 0.192\n",
      "[3,  4000] loss: 0.174\n",
      "[4,  2000] loss: 0.149\n",
      "[4,  4000] loss: 0.134\n",
      "[5,  2000] loss: 0.114\n",
      "[5,  4000] loss: 0.110\n",
      "[6,  2000] loss: 0.092\n",
      "[6,  4000] loss: 0.093\n",
      "[7,  2000] loss: 0.076\n",
      "[7,  4000] loss: 0.078\n",
      "[8,  2000] loss: 0.066\n",
      "[8,  4000] loss: 0.066\n",
      "[9,  2000] loss: 0.057\n",
      "[9,  4000] loss: 0.054\n",
      "[10,  2000] loss: 0.051\n",
      "[10,  4000] loss: 0.047\n",
      "Finished Training\n",
      "\n",
      "9757/10000\n",
      "Accuracy: 0.976\n",
      "\n",
      "\n",
      "-------------------- 3 layer --------------------\n",
      "[1,  2000] loss: 1.426\n",
      "[1,  4000] loss: 0.399\n",
      "[2,  2000] loss: 0.274\n",
      "[2,  4000] loss: 0.218\n",
      "[3,  2000] loss: 0.166\n",
      "[3,  4000] loss: 0.153\n",
      "[4,  2000] loss: 0.119\n",
      "[4,  4000] loss: 0.110\n",
      "[5,  2000] loss: 0.088\n",
      "[5,  4000] loss: 0.086\n",
      "[6,  2000] loss: 0.068\n",
      "[6,  4000] loss: 0.076\n",
      "[7,  2000] loss: 0.058\n",
      "[7,  4000] loss: 0.058\n",
      "[8,  2000] loss: 0.047\n",
      "[8,  4000] loss: 0.048\n",
      "[9,  2000] loss: 0.037\n",
      "[9,  4000] loss: 0.039\n",
      "[10,  2000] loss: 0.029\n",
      "[10,  4000] loss: 0.034\n",
      "Finished Training\n",
      "\n",
      "9793/10000\n",
      "Accuracy: 0.979\n",
      "\n",
      "\n",
      "-------------------- 4 layer --------------------\n",
      "[1,  2000] loss: 2.189\n",
      "[1,  4000] loss: 0.736\n",
      "[2,  2000] loss: 0.313\n",
      "[2,  4000] loss: 0.247\n",
      "[3,  2000] loss: 0.155\n",
      "[3,  4000] loss: 0.149\n",
      "[4,  2000] loss: 0.106\n",
      "[4,  4000] loss: 0.107\n",
      "[5,  2000] loss: 0.078\n",
      "[5,  4000] loss: 0.082\n",
      "[6,  2000] loss: 0.061\n",
      "[6,  4000] loss: 0.063\n",
      "[7,  2000] loss: 0.047\n",
      "[7,  4000] loss: 0.049\n",
      "[8,  2000] loss: 0.036\n",
      "[8,  4000] loss: 0.041\n",
      "[9,  2000] loss: 0.029\n",
      "[9,  4000] loss: 0.032\n",
      "[10,  2000] loss: 0.019\n",
      "[10,  4000] loss: 0.026\n",
      "Finished Training\n",
      "\n",
      "9762/10000\n",
      "Accuracy: 0.976\n",
      "\n",
      "\n",
      "-------------------- 5 layer --------------------\n",
      "[1,  2000] loss: 2.301\n",
      "[1,  4000] loss: 2.187\n",
      "[2,  2000] loss: 0.516\n",
      "[2,  4000] loss: 0.300\n",
      "[3,  2000] loss: 0.182\n",
      "[3,  4000] loss: 0.162\n",
      "[4,  2000] loss: 0.116\n",
      "[4,  4000] loss: 0.107\n",
      "[5,  2000] loss: 0.079\n",
      "[5,  4000] loss: 0.086\n",
      "[6,  2000] loss: 0.065\n",
      "[6,  4000] loss: 0.063\n",
      "[7,  2000] loss: 0.049\n",
      "[7,  4000] loss: 0.049\n",
      "[8,  2000] loss: 0.037\n",
      "[8,  4000] loss: 0.043\n",
      "[9,  2000] loss: 0.027\n",
      "[9,  4000] loss: 0.034\n",
      "[10,  2000] loss: 0.023\n",
      "[10,  4000] loss: 0.025\n",
      "Finished Training\n",
      "\n",
      "9756/10000\n",
      "Accuracy: 0.976\n",
      "\n",
      "\n"
     ]
    },
    {
     "data": {
      "text/plain": [
       "[<matplotlib.lines.Line2D at 0x7f14a86e0eb8>]"
      ]
     },
     "execution_count": 6,
     "metadata": {},
     "output_type": "execute_result"
    },
    {
     "data": {
      "image/png": "[encoded data removed]",
      "text/plain": [
       "<Figure size 432x288 with 1 Axes>"
      ]
     },
     "metadata": {
      "needs_background": "light"
     },
     "output_type": "display_data"
    }
   ],
   "source": [
    "hidden_units_list = [[512, 256], [512, 256, 128], [512, 256, 128, 64], [512, 256, 128, 64, 32]] # (2,3,4,5 layers)\n",
    "accuracy_list = []\n",
    "\n",
    "for i in range(len(hidden_units_list)):\n",
    "    \n",
    "    model = DNN(hidden_units_list[i])\n",
    "    criterion = nn.CrossEntropyLoss()\n",
    "    optimizer = optim.SGD(model.parameters(), lr = 0.01)\n",
    "    \n",
    "    print('--------------------', i+2, 'layer --------------------')\n",
    "    Train(model)\n",
    "    accuracy_list.append(Test(model))\n",
    "    print()\n",
    "    \n",
    "plt.figure()\n",
    "plt.title(\"accuracy vs #layers\")\n",
    "x = np.arange(0, len(accuracy_list))\n",
    "plt.plot(x+2, accuracy_list)"
   ]
  }
 ],
 "metadata": {
  "kernelspec": {
   "display_name": "Python 3",
   "language": "python",
   "name": "python3"
  },
  "language_info": {
   "codemirror_mode": {
    "name": "ipython",
    "version": 3
   },
   "file_extension": ".py",
   "mimetype": "text/x-python",
   "name": "python",
   "nbconvert_exporter": "python",
   "pygments_lexer": "ipython3",
   "version": "3.6.13"
  }
 },
 "nbformat": 4,
 "nbformat_minor": 5
}
