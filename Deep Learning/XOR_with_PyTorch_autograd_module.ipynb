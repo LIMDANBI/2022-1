{
 "cells": [
  {
   "cell_type": "code",
   "execution_count": 1,
   "metadata": {},
   "outputs": [],
   "source": [
    "import torch\n",
    "import torch.nn as nn\n",
    "import torch.optim as optim\n",
    "import numpy as np"
   ]
  },
  {
   "cell_type": "code",
   "execution_count": 2,
   "metadata": {},
   "outputs": [],
   "source": [
    "x_seeds = np.array([(0,0), (1,0), (0,1), (1,1)], dtype=np.float32)\n",
    "y_seeds = np.array([0, 1, 1, 0])"
   ]
  },
  {
   "cell_type": "code",
   "execution_count": 3,
   "metadata": {},
   "outputs": [],
   "source": [
    "N = 1000\n",
    "idxs = np.random.randint(0, 4, N)"
   ]
  },
  {
   "cell_type": "code",
   "execution_count": 4,
   "metadata": {},
   "outputs": [],
   "source": [
    "X = x_seeds[idxs]\n",
    "Y = y_seeds[idxs]"
   ]
  },
  {
   "cell_type": "code",
   "execution_count": 5,
   "metadata": {},
   "outputs": [],
   "source": [
    "X = X + np.random.normal(scale = 0.25, size=X.shape)"
   ]
  },
  {
   "cell_type": "code",
   "execution_count": 6,
   "metadata": {},
   "outputs": [],
   "source": [
    "class shallow_neural_network(nn.Module):\n",
    "    def __init__(self, num_input_features, num_hiddens):\n",
    "        super().__init__()\n",
    "        self.num_input_features = num_input_features\n",
    "        self.num_hiddens = num_hiddens\n",
    "        \n",
    "        self.linear1 = nn.Linear(num_input_features, num_hiddens)\n",
    "        self.linear2 = nn.Linear(num_hiddens, 1)\n",
    "        \n",
    "        self.tanh = torch.nn.Tanh()\n",
    "        self.sigmoid = torch.nn.Sigmoid()\n",
    "        \n",
    "    def forward(self, x):\n",
    "        z1 = self.linear1(x)\n",
    "        a1 = self.tanh(z1)\n",
    "        z2 = self.linear2(a1)\n",
    "        a2 = self.sigmoid(z2)\n",
    "        return a2"
   ]
  },
  {
   "cell_type": "code",
   "execution_count": 7,
   "metadata": {},
   "outputs": [],
   "source": [
    "num_epochs = 100\n",
    "lr = 1.0\n",
    "num_hiddens = 3 \n",
    "\n",
    "model = shallow_neural_network(2, num_hiddens)\n",
    "optimizer = optim.SGD(model.parameters(), lr=lr)\n",
    "loss = nn.BCELoss()"
   ]
  },
  {
   "cell_type": "code",
   "execution_count": 8,
   "metadata": {},
   "outputs": [
    {
     "name": "stdout",
     "output_type": "stream",
     "text": [
      "0 tensor(0.7353, grad_fn=<DivBackward0>)\n",
      "10 tensor(0.6802, grad_fn=<DivBackward0>)\n",
      "20 tensor(0.6579, grad_fn=<DivBackward0>)\n",
      "30 tensor(0.6287, grad_fn=<DivBackward0>)\n",
      "40 tensor(0.5931, grad_fn=<DivBackward0>)\n",
      "50 tensor(0.5490, grad_fn=<DivBackward0>)\n",
      "60 tensor(0.4897, grad_fn=<DivBackward0>)\n",
      "70 tensor(0.4188, grad_fn=<DivBackward0>)\n",
      "80 tensor(0.3521, grad_fn=<DivBackward0>)\n",
      "90 tensor(0.2983, grad_fn=<DivBackward0>)\n"
     ]
    }
   ],
   "source": [
    "for epoch in range(num_epochs):\n",
    "    optimizer.zero_grad()\n",
    "    \n",
    "    cost = 0.0\n",
    "    for x,y in zip(X, Y):\n",
    "        x_torch = torch.FloatTensor(x)\n",
    "        y_torch = torch.FloatTensor([y])\n",
    "        \n",
    "        y_hat = model(x_torch)\n",
    "        loss_val = loss(y_hat, y_torch)\n",
    "        cost+=loss_val\n",
    "        \n",
    "    cost = cost/len(X)\n",
    "    cost.backward()\n",
    "    optimizer.step()\n",
    "    \n",
    "    if epoch%10==0:\n",
    "        print(epoch, cost)"
   ]
  },
  {
   "cell_type": "code",
   "execution_count": 9,
   "metadata": {},
   "outputs": [
    {
     "name": "stdout",
     "output_type": "stream",
     "text": [
      "[0. 0.]\n",
      "0 0.06353206187486649\n",
      "[1. 0.]\n",
      "1 0.8306096196174622\n",
      "[0. 1.]\n",
      "1 0.8901376128196716\n",
      "[1. 1.]\n",
      "0 0.18439558148384094\n"
     ]
    }
   ],
   "source": [
    "for x,y in zip(x_seeds, y_seeds):\n",
    "    print(x)\n",
    "    x_torch = torch.FloatTensor(x)\n",
    "    y_hat = model(x_torch)\n",
    "    print(y, y_hat.item())"
   ]
  },
  {
   "cell_type": "code",
   "execution_count": null,
   "metadata": {},
   "outputs": [],
   "source": []
  }
 ],
 "metadata": {
  "kernelspec": {
   "display_name": "Python 3 (ipykernel)",
   "language": "python",
   "name": "python3"
  },
  "language_info": {
   "codemirror_mode": {
    "name": "ipython",
    "version": 3
   },
   "file_extension": ".py",
   "mimetype": "text/x-python",
   "name": "python",
   "nbconvert_exporter": "python",
   "pygments_lexer": "ipython3",
   "version": "3.9.7"
  }
 },
 "nbformat": 4,
 "nbformat_minor": 4
}
