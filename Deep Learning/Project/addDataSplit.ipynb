{
 "cells": [
  {
   "cell_type": "code",
   "execution_count": 1,
   "id": "9a476c69",
   "metadata": {},
   "outputs": [],
   "source": [
    "import pandas as pd\n",
    "from sklearn.model_selection import train_test_split"
   ]
  },
  {
   "cell_type": "code",
   "execution_count": 2,
   "id": "95781496",
   "metadata": {},
   "outputs": [],
   "source": [
    "whiteblack = pd.read_csv('./data/whiteblack.csv')\n",
    "red = pd.read_csv('./data/red.csv')\n",
    "blue = pd.read_csv('./data/blue.csv')\n",
    "green = pd.read_csv('./data/green.csv')\n",
    "noisewhite = pd.read_csv('./data/noisewhite.csv')\n",
    "noiseblack = pd.read_csv('./data/noiseblack.csv')"
   ]
  },
  {
   "cell_type": "code",
   "execution_count": 3,
   "id": "14b0f6ff",
   "metadata": {},
   "outputs": [],
   "source": [
    "val_percent = 0.1"
   ]
  },
  {
   "cell_type": "code",
   "execution_count": 4,
   "id": "593d0d9e",
   "metadata": {},
   "outputs": [],
   "source": [
    "train_wb, val_wb = train_test_split(whiteblack, test_size=val_percent, random_state=123)\n",
    "train_red, val_red = train_test_split(red, test_size=val_percent, random_state=123)\n",
    "train_blue, val_blue = train_test_split(blue, test_size=val_percent, random_state=123)\n",
    "train_green, val_green = train_test_split(green, test_size=val_percent, random_state=123)\n",
    "train_nw, val_nw = train_test_split(noisewhite, test_size=val_percent, random_state=123)\n",
    "train_nb, val_nb = train_test_split(noiseblack, test_size=val_percent, random_state=123)"
   ]
  },
  {
   "cell_type": "code",
   "execution_count": 5,
   "id": "7b35592e",
   "metadata": {},
   "outputs": [],
   "source": [
    "train_mnist = pd.read_csv('./data/mnist_train.csv')\n",
    "valid_mnist = pd.read_csv('./data/mnist_valid.csv')"
   ]
  },
  {
   "cell_type": "code",
   "execution_count": 6,
   "id": "7abd0dc9",
   "metadata": {},
   "outputs": [],
   "source": [
    "train = pd.concat([train_mnist, train_wb, train_red, train_blue, train_green, train_nw, train_nb])\n",
    "valid = pd.concat([valid_mnist, val_wb, val_red, val_blue, val_green, val_nw, val_nb])\n",
    "\n",
    "train.to_csv('./data/train.csv', index=False)\n",
    "valid.to_csv('./data/valid.csv', index=False)"
   ]
  },
  {
   "cell_type": "code",
   "execution_count": 7,
   "id": "36a2d6b4",
   "metadata": {},
   "outputs": [
    {
     "name": "stdout",
     "output_type": "stream",
     "text": [
      "<class 'pandas.core.frame.DataFrame'>\n",
      "RangeIndex: 1760 entries, 0 to 1759\n",
      "Data columns (total 2 columns):\n",
      " #   Column    Non-Null Count  Dtype \n",
      "---  ------    --------------  ----- \n",
      " 0   img_path  1760 non-null   object\n",
      " 1   label     1760 non-null   int64 \n",
      "dtypes: int64(1), object(1)\n",
      "memory usage: 27.6+ KB\n"
     ]
    }
   ],
   "source": [
    "noiseblack.info()"
   ]
  },
  {
   "cell_type": "code",
   "execution_count": 8,
   "id": "1402242c",
   "metadata": {},
   "outputs": [
    {
     "data": {
      "text/plain": [
       "1    7654\n",
       "7    7156\n",
       "3    7020\n",
       "9    6836\n",
       "6    6828\n",
       "0    6827\n",
       "2    6814\n",
       "8    6773\n",
       "4    6734\n",
       "5    6343\n",
       "Name: label, dtype: int64"
      ]
     },
     "execution_count": 8,
     "metadata": {},
     "output_type": "execute_result"
    }
   ],
   "source": [
    "train['label'].value_counts()"
   ]
  },
  {
   "cell_type": "code",
   "execution_count": 9,
   "id": "4d80aa2a",
   "metadata": {},
   "outputs": [
    {
     "data": {
      "text/plain": [
       "1    1246\n",
       "2    1147\n",
       "7    1130\n",
       "3    1113\n",
       "9    1102\n",
       "4    1080\n",
       "0    1073\n",
       "8    1071\n",
       "6    1058\n",
       "5     980\n",
       "Name: label, dtype: int64"
      ]
     },
     "execution_count": 9,
     "metadata": {},
     "output_type": "execute_result"
    }
   ],
   "source": [
    "valid['label'].value_counts()"
   ]
  }
 ],
 "metadata": {
  "kernelspec": {
   "display_name": "Python 3",
   "language": "python",
   "name": "python3"
  },
  "language_info": {
   "codemirror_mode": {
    "name": "ipython",
    "version": 3
   },
   "file_extension": ".py",
   "mimetype": "text/x-python",
   "name": "python",
   "nbconvert_exporter": "python",
   "pygments_lexer": "ipython3",
   "version": "3.6.13"
  }
 },
 "nbformat": 4,
 "nbformat_minor": 5
}
